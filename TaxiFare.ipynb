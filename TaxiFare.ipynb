{
  "nbformat": 4,
  "nbformat_minor": 0,
  "metadata": {
    "colab": {
      "provenance": []
    },
    "kernelspec": {
      "name": "python3",
      "display_name": "Python 3"
    },
    "language_info": {
      "name": "python"
    }
  },
  "cells": [
    {
      "cell_type": "code",
      "execution_count": null,
      "metadata": {
        "id": "bkGYy7waWEmL"
      },
      "outputs": [],
      "source": [
        "import torch\n",
        "import torch as nn\n",
        "from torch.utils.data import Dataset , DataLoader\n",
        "import pandas as pd"
      ]
    },
    {
      "cell_type": "code",
      "source": [
        "df = pd.read_csv(\"Taxi_fare.csv\")"
      ],
      "metadata": {
        "id": "it8uFKNtWne4"
      },
      "execution_count": null,
      "outputs": []
    },
    {
      "cell_type": "code",
      "source": [
        "#Checking whether there is any Null value in the DataFrame\n",
        "df.isna().sum()"
      ],
      "metadata": {
        "colab": {
          "base_uri": "https://localhost:8080/"
        },
        "id": "EU-3DjC3XOgC",
        "outputId": "eb23c696-7b45-4349-b35d-62d42fe17179"
      },
      "execution_count": null,
      "outputs": [
        {
          "output_type": "execute_result",
          "data": {
            "text/plain": [
              "trip_duration         0\n",
              "distance_traveled     0\n",
              "num_of_passengers     0\n",
              "fare                  0\n",
              "tip                   0\n",
              "miscellaneous_fees    0\n",
              "total_fare            0\n",
              "surge_applied         0\n",
              "dtype: int64"
            ]
          },
          "metadata": {},
          "execution_count": 11
        }
      ]
    },
    {
      "cell_type": "code",
      "source": [
        "#Moving the target col to the Last\n",
        "target_col = df.pop(\"total_fare\")\n",
        "df[\"total_fare\"] = target_col"
      ],
      "metadata": {
        "id": "07WW21WkXWw9"
      },
      "execution_count": null,
      "outputs": []
    },
    {
      "cell_type": "code",
      "source": [
        "#Extracting features and Labels from the Dataset\n",
        "features = df.drop('total_fare', axis=1).values\n",
        "labels = df['total_fare'].values"
      ],
      "metadata": {
        "id": "48UNoVhMX9ZA"
      },
      "execution_count": null,
      "outputs": []
    },
    {
      "cell_type": "markdown",
      "source": [
        "#Creating class CustomDataset"
      ],
      "metadata": {
        "id": "M1-DZlpZYzVM"
      }
    },
    {
      "cell_type": "code",
      "source": [],
      "metadata": {
        "id": "bvfdlbbtYTQ5"
      },
      "execution_count": null,
      "outputs": []
    },
    {
      "cell_type": "code",
      "source": [],
      "metadata": {
        "id": "3wZExhHPYVtv"
      },
      "execution_count": null,
      "outputs": []
    },
    {
      "cell_type": "code",
      "source": [],
      "metadata": {
        "id": "m2GRQrLQWXmT"
      },
      "execution_count": null,
      "outputs": []
    }
  ]
}